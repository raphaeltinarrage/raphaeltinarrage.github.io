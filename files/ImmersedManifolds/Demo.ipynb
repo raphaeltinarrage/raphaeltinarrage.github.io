{
 "cells": [
  {
   "cell_type": "markdown",
   "metadata": {},
   "source": [
    "# Recovering the homology of immersed manifolds: demo\n",
    "\n",
    "Raphaël Tinarrage https://raphaeltinarrage.github.io/\n",
    "<br/>\n",
    "Nov 2020"
   ]
  },
  {
   "cell_type": "markdown",
   "metadata": {},
   "source": [
    "This page describes the implementation and use of the method described in our paper *Recovering the homology of immersed manifolds* https://arxiv.org/abs/1912.03033."
   ]
  },
  {
   "cell_type": "markdown",
   "metadata": {},
   "source": [
    "## Background\n",
    "\n",
    "The method described in this notebook has been designed to answer the following estimation problem: given a sample of the image of an immersed manifold, estimate the homology groups of the abstract initial manifold.\n",
    "\n",
    "Let $\\mathbb{R}^n$ be the Euclidean space, and $M(\\mathbb{R}^n)$ the space of $n \\times n$ matrices.\n",
    "Consider a finite subset $X$ of $\\mathbb{R}^n$. \n",
    "\n",
    "We suppose that $X$ is a sample of an immersed manifold $\\mathcal{M} \\subset \\mathbb{R}^n$.\n",
    "That is, there exists an abstract manifold $\\mathcal{M}_0$ and an immersion $u\\colon \\mathcal{M}_0 \\rightarrow \\mathbb{R}^n$ whose image is $\\mathcal{M}$.\n",
    "We aim at estimating the homology of $\\mathcal{M}$, from the mere observation of $X$.\n",
    "\n",
    "The method consists in computing the **lifted set** $\\check X$, which is a finite subspace of $\\mathbb{R}^n \\times M(\\mathbb{R}^n)$, and in applying DTM-based filtrations in the ambient space $\\mathbb{R}^n \\times M(\\mathbb{R}^n)$. The DTM-filtrations are defined in https://arxiv.org/abs/1811.04757.\n",
    "This method depends on three parameters: $r \\in (0, +\\infty)$, $\\gamma \\in [0, +\\infty)$ and $m \\in [0,1]$.\n",
    "\n",
    "First, consider the set $\\check X$, defined as\n",
    "$$\\check X = \\{ (x, \\gamma \\overline \\Sigma(x)), x \\in X  \\},$$\n",
    "where $\\overline \\Sigma(x)$, the **normalized covariance matrix** at $x$, is computed with respect to a radius $r$.\n",
    "\n",
    "Then, compute the **DTM-filtration** on $\\check X$ with parameter $m$. It is denoted $W[\\check X, m]$, and is defined as the collection of subsets $(W^t[X,m,p])_{t \\geq 0}$ of $\\mathbb{R}^n \\times M(\\mathbb{R}^n)$, with\n",
    "$$W^t[X,m,p] = \\bigcup_{x \\in X} \\overline{\\mathcal{B}}\\big(x,t - \\mathrm{d}_{\\mu,m}(x)\\big),$$\n",
    "where $\\mathrm{d}_{\\mu,m}$ is the DTM of the empirical probability measure on $\\check X$ with parameter $m$, and $\\overline{\\mathcal{B}}(x,r)$ denotes the closed ball of center $x$ and radius $r$ if $r \\geq 0$, or the emptyset if $r < 0$.\n",
    "\n",
    "\n",
    "The corresponding persistent module of $i^\\text{th}$ homology is obtained by applying the $i^\\text{th}$ homology functor to $W[\\check X,m]$. Throughout this notebook, we will compute homology over the finite field $\\mathbb{Z}/2\\mathbb{Z}$."
   ]
  },
  {
   "cell_type": "markdown",
   "metadata": {},
   "source": [
    "## Datasets\n",
    "\n",
    "We consider here two datasets:\n",
    "-  Bernouilli's lemniscate\n",
    "-  the Olympic rings"
   ]
  },
  {
   "cell_type": "markdown",
   "metadata": {},
   "source": [
    "## Package\n",
    "\n",
    "The functions are contained in the `Velour` package (https://pypi.org/project/velour/).\n",
    "<br/>\n",
    "It is based on the `Gudhi` library (https://gudhi.inria.fr/python/latest/)."
   ]
  },
  {
   "cell_type": "code",
   "execution_count": 1,
   "metadata": {},
   "outputs": [],
   "source": [
    "import velour"
   ]
  },
  {
   "cell_type": "markdown",
   "metadata": {},
   "source": [
    "## First dataset: lemniscate\n",
    "\n",
    "We start with a sample $X$ of the lemniscate $\\mathcal{M} \\subset \\mathbb{R}^2$. \n",
    "It is to be seen as an immersion of the circle $\\mathbb{S}_1 \\rightarrow \\mathbb{R}^2$."
   ]
  },
  {
   "cell_type": "code",
   "execution_count": 2,
   "metadata": {
    "scrolled": true
   },
   "outputs": [
    {
     "data": {
      "image/png": "[encoded data removed]",
      "text/plain": [
       "<Figure size 576x576 with 1 Axes>"
      ]
     },
     "metadata": {
      "needs_background": "light"
     },
     "output_type": "display_data"
    }
   ],
   "source": [
    "N_observation = 200                                         #number of points sampled on the lemniscate\n",
    "N_anomalous = 0                                             #number of outliers \n",
    "X = velour.SampleOnLemniscate(N_observation, N_anomalous)   #samples points \n",
    "\n",
    "velour.PlotPointCloud(X)                                    #plots the point cloud"
   ]
  },
  {
   "cell_type": "markdown",
   "metadata": {},
   "source": [
    "Consider the Rips filtration of $X$.\n",
    "Its $H_0$-barcode is represented in red, and $H_1$ in green."
   ]
  },
  {
   "cell_type": "code",
   "execution_count": 3,
   "metadata": {},
   "outputs": [
    {
     "name": "stdout",
     "output_type": "stream",
     "text": [
      "Rips Complex is of dimension 2 - 1333500 simplices - 200 vertices. Filtration maximal value is 1.\n"
     ]
    },
    {
     "data": {
      "image/png": "[encoded data removed]",
      "text/plain": [
       "<Figure size 720x144 with 1 Axes>"
      ]
     },
     "metadata": {
      "needs_background": "light"
     },
     "output_type": "display_data"
    },
    {
     "data": {
      "image/png": "[encoded data removed]",
      "text/plain": [
       "<Figure size 720x144 with 1 Axes>"
      ]
     },
     "metadata": {
      "needs_background": "light"
     },
     "output_type": "display_data"
    }
   ],
   "source": [
    "filtration_max = 1\n",
    "st = velour.RipsComplex(X, filtration_max = filtration_max, dimension_max = 2) #creates a Rips complex     \n",
    "\n",
    "velour.PlotPersistenceBarcodes(st, tmax = filtration_max)                      #computes the persistence"
   ]
  },
  {
   "cell_type": "markdown",
   "metadata": {},
   "source": [
    "On these diagrams, one can read the homology of the lemniscate. Its Betti numbers are $(\\beta_0, \\beta_1) = (1,2)$.\n",
    "\n",
    "We now illustrate our method. We aim to recover the homology of the original circle $\\mathbb{S}_1$.\n",
    "First, we compute the lifted set $\\check X$, with given parameters $r$ and $\\gamma$. "
   ]
  },
  {
   "cell_type": "code",
   "execution_count": 4,
   "metadata": {},
   "outputs": [],
   "source": [
    "r = 0.05\n",
    "gamma = 3\n",
    "X_check = velour.Lifting(X, r, gamma)   #builds the lifted set"
   ]
  },
  {
   "cell_type": "markdown",
   "metadata": {},
   "source": [
    "We then compute the persistence diagram of the DTM-filtration on $\\check X$ with parameter $m = 0.03$."
   ]
  },
  {
   "cell_type": "code",
   "execution_count": 5,
   "metadata": {
    "scrolled": false
   },
   "outputs": [
    {
     "name": "stdout",
     "output_type": "stream",
     "text": [
      "Weighted Rips Complex is of dimension 2 - 1333500 simplices - 200 vertices. Filtration maximal value is inf.\n"
     ]
    },
    {
     "data": {
      "image/png": "[encoded data removed]",
      "text/plain": [
       "<Figure size 720x144 with 1 Axes>"
      ]
     },
     "metadata": {
      "needs_background": "light"
     },
     "output_type": "display_data"
    },
    {
     "data": {
      "image/png": "[encoded data removed]",
      "text/plain": [
       "<Figure size 720x144 with 1 Axes>"
      ]
     },
     "metadata": {
      "needs_background": "light"
     },
     "output_type": "display_data"
    }
   ],
   "source": [
    "m = 0.01\n",
    "p = 1                                            \n",
    "dimension_max = 2\n",
    "st = velour.DTMFiltration(X_check, m, p, dimension_max)   #creates a DTM-filtration\n",
    "\n",
    "velour.PlotPersistenceBarcodes(st)                        #displays the persistence barcode"
   ]
  },
  {
   "cell_type": "markdown",
   "metadata": {},
   "source": [
    "On these diagrams, there is an interval where one reads the homology of the original manifold $\\mathbb{S}_1$: $(\\beta_0, \\beta_1) = (1,1)$.\n",
    "We successfully recovered the homology of the original manifold."
   ]
  },
  {
   "cell_type": "markdown",
   "metadata": {},
   "source": [
    "As illustrated by the following example, this construction is stable in Wasserstein distance: adding a few outliers in the dataset results in a small change (in bottleneck distance) in the persistence barcodes."
   ]
  },
  {
   "cell_type": "code",
   "execution_count": 6,
   "metadata": {},
   "outputs": [
    {
     "name": "stdout",
     "output_type": "stream",
     "text": [
      "Weighted Rips Complex is of dimension 2 - 2604375 simplices - 250 vertices. Filtration maximal value is inf.\n"
     ]
    },
    {
     "data": {
      "image/png": "[encoded data removed]",
      "text/plain": [
       "<Figure size 576x576 with 1 Axes>"
      ]
     },
     "metadata": {
      "needs_background": "light"
     },
     "output_type": "display_data"
    },
    {
     "data": {
      "image/png": "[encoded data removed]",
      "text/plain": [
       "<Figure size 720x144 with 1 Axes>"
      ]
     },
     "metadata": {
      "needs_background": "light"
     },
     "output_type": "display_data"
    },
    {
     "data": {
      "image/png": "[encoded data removed]",
      "text/plain": [
       "<Figure size 720x144 with 1 Axes>"
      ]
     },
     "metadata": {
      "needs_background": "light"
     },
     "output_type": "display_data"
    }
   ],
   "source": [
    "' Sampling on the lemniscate with outliers '\n",
    "N_observation = 200                                         #number of points sampled on the lemniscate\n",
    "N_anomalous = 50                                            #number of anomalous points \n",
    "X = velour.SampleOnLemniscate(N_observation, N_anomalous)   #samples points \n",
    "velour.PlotPointCloud(X)\n",
    "\n",
    "' Computing the lifted set '\n",
    "r = 0.05\n",
    "gamma = 3\n",
    "X_check = velour.Lifting(X, r, gamma)                  #builds the lifted set\n",
    "\n",
    "' DTM-filtration on the lifted set '\n",
    "m = 0.01\n",
    "p = 1                                            \n",
    "dimension_max = 2\n",
    "st = velour.DTMFiltration(X_check, m, p, dimension_max)     #creates a DTM-filtration\n",
    "velour.PlotPersistenceBarcodes(st)                          #displays the persistence barcode"
   ]
  },
  {
   "cell_type": "markdown",
   "metadata": {},
   "source": [
    "## Second dataset: Olympic rings\n",
    "\n",
    "We consider a sample $X$ of the Olympic rings $\\mathcal{M} \\subset \\mathbb{R}^2$. \n",
    "It is to be seen as an immersion of the disjoint union of five circles $\\cup_{i=1}^5 \\mathbb{S}_1 \\rightarrow \\mathbb{R}^2$."
   ]
  },
  {
   "cell_type": "code",
   "execution_count": 7,
   "metadata": {
    "scrolled": true
   },
   "outputs": [
    {
     "data": {
      "image/png": "[encoded data removed]",
      "text/plain": [
       "<Figure size 576x576 with 1 Axes>"
      ]
     },
     "metadata": {
      "needs_background": "light"
     },
     "output_type": "display_data"
    }
   ],
   "source": [
    "N_observation = 300                          #number of points sampled on each Olympic rings\n",
    "X = velour.SampleOnOlympics(N_observation)   #samples points \n",
    "\n",
    "velour.PlotPointCloud(X)"
   ]
  },
  {
   "cell_type": "markdown",
   "metadata": {},
   "source": [
    "As before, we start by having a look at the Delaunay filtration (alpha-complex) filtration of $X$.\n",
    "We only plot the bars of larger greater than `eps = 0.01`."
   ]
  },
  {
   "cell_type": "code",
   "execution_count": 18,
   "metadata": {
    "scrolled": false
   },
   "outputs": [
    {
     "name": "stdout",
     "output_type": "stream",
     "text": [
      "Alpha-complex is of dimension 2 - 8385 simplices - 1500 vertices.\n"
     ]
    },
    {
     "data": {
      "image/png": "[encoded data removed]",
      "text/plain": [
       "<Figure size 720x144 with 1 Axes>"
      ]
     },
     "metadata": {
      "needs_background": "light"
     },
     "output_type": "display_data"
    },
    {
     "data": {
      "image/png": "[encoded data removed]",
      "text/plain": [
       "<Figure size 720x144 with 1 Axes>"
      ]
     },
     "metadata": {
      "needs_background": "light"
     },
     "output_type": "display_data"
    }
   ],
   "source": [
    "st_alpha = velour.AlphaComplex(X)                                #Delaunay filtration over X\n",
    "\n",
    "velour.PlotPersistenceBarcodes(st_alpha, tmax = 1, eps = 0.01)   #computes the persistence"
   ]
  },
  {
   "cell_type": "markdown",
   "metadata": {},
   "source": [
    "On these diagrams, one can read the following Betti numers: $(\\beta_0, \\beta_1) = (1,9)$.\n",
    "\n",
    "We now illustrate our method. Our goal is to recover the homology of five (disconnected) circles.\n",
    "First, we compute the lifted set $\\check X$, with given parameters $r$ and $\\gamma$. "
   ]
  },
  {
   "cell_type": "code",
   "execution_count": 19,
   "metadata": {},
   "outputs": [],
   "source": [
    "r = 0.03\n",
    "gamma = 1\n",
    "X_check = velour.Lifting(X, r, gamma)   #builds the lifted set"
   ]
  },
  {
   "cell_type": "markdown",
   "metadata": {},
   "source": [
    "We then compute the persistence diagram of the DTM-filtration on $\\check X$ with parameter $m = 0.01$.\n",
    "Only bars of length larger than $0.1$ are displayed."
   ]
  },
  {
   "cell_type": "code",
   "execution_count": 20,
   "metadata": {
    "scrolled": false
   },
   "outputs": [
    {
     "name": "stdout",
     "output_type": "stream",
     "text": [
      "Weighted Rips Complex is of dimension 2 - 42198147 simplices - 1500 vertices. Filtration maximal value is 1.\n"
     ]
    },
    {
     "data": {
      "image/png": "[encoded data removed]",
      "text/plain": [
       "<Figure size 720x144 with 1 Axes>"
      ]
     },
     "metadata": {
      "needs_background": "light"
     },
     "output_type": "display_data"
    },
    {
     "data": {
      "image/png": "[encoded data removed]",
      "text/plain": [
       "<Figure size 720x144 with 1 Axes>"
      ]
     },
     "metadata": {
      "needs_background": "light"
     },
     "output_type": "display_data"
    }
   ],
   "source": [
    "m = 0.01\n",
    "p = 1                                            \n",
    "dimension_max = 2\n",
    "filtration_max = 1                                                        #maximal filtration value\n",
    "st = velour.DTMFiltration(X_check, m, p, dimension_max, filtration_max)   #creates a DTM-filtration\n",
    "\n",
    "velour.PlotPersistenceBarcodes(st, eps=0.1)                               #displays the persistence barcode"
   ]
  },
  {
   "cell_type": "markdown",
   "metadata": {},
   "source": [
    "On these diagrams, there is an interval where one reads the Betti numbers of the original manifold $\\cup_{i=1}^5 \\mathbb{S}_1$, that is, $(\\beta_0, \\beta_1) = (5,5)$."
   ]
  },
  {
   "cell_type": "markdown",
   "metadata": {},
   "source": [
    "# Take-home message\n",
    "\n",
    "This implementation depends on 3 parameters:\n",
    "- $r$: scale to compute covariance matrices,\n",
    "- $\\gamma$: dilatation of the space $M(\\mathbb{R}^n) \\subset \\mathbb{R}^n \\times M(\\mathbb{R}^n)$,\n",
    "- $m$: parameter of the DTM.\n",
    "\n",
    "It can be used as follows:\n",
    "``` \n",
    "# X is a Nxn np.array, N = number of points, n = dimension of the ambient space\n",
    "r = 0.05\n",
    "gamma = 1\n",
    "m = 0.01\n",
    "\n",
    "p = 1                                            \n",
    "dimension_max = 2     \n",
    "filtration_max = 1\n",
    "\n",
    "X_check = velour.Lifting(X, r, gamma)                                     #creates the lifted set\n",
    "st = velour.DTMFiltration(X_check, m, p, dimension_max, filtration_max)   #builds a DTM-filtration\n",
    "velour.PlotPersistenceBarcodes(st)                                        #displays the persistence barcode\n",
    "```"
   ]
  }
 ],
 "metadata": {
  "kernelspec": {
   "display_name": "Python 3",
   "language": "python",
   "name": "python3"
  },
  "language_info": {
   "codemirror_mode": {
    "name": "ipython",
    "version": 3
   },
   "file_extension": ".py",
   "mimetype": "text/x-python",
   "name": "python",
   "nbconvert_exporter": "python",
   "pygments_lexer": "ipython3",
   "version": "3.7.8"
  }
 },
 "nbformat": 4,
 "nbformat_minor": 2
}
